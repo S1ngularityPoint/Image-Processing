{
 "cells": [
  {
   "cell_type": "code",
   "execution_count": 1,
   "id": "00425645-e8e0-443e-9f31-b61f343efc5c",
   "metadata": {},
   "outputs": [
    {
     "name": "stderr",
     "output_type": "stream",
     "text": [
      "2023-10-05 17:36:46.439991: I tensorflow/core/util/port.cc:111] oneDNN custom operations are on. You may see slightly different numerical results due to floating-point round-off errors from different computation orders. To turn them off, set the environment variable `TF_ENABLE_ONEDNN_OPTS=0`.\n",
      "2023-10-05 17:36:46.443837: I tensorflow/tsl/cuda/cudart_stub.cc:28] Could not find cuda drivers on your machine, GPU will not be used.\n",
      "2023-10-05 17:36:46.512798: E tensorflow/compiler/xla/stream_executor/cuda/cuda_dnn.cc:9342] Unable to register cuDNN factory: Attempting to register factory for plugin cuDNN when one has already been registered\n",
      "2023-10-05 17:36:46.512859: E tensorflow/compiler/xla/stream_executor/cuda/cuda_fft.cc:609] Unable to register cuFFT factory: Attempting to register factory for plugin cuFFT when one has already been registered\n",
      "2023-10-05 17:36:46.512896: E tensorflow/compiler/xla/stream_executor/cuda/cuda_blas.cc:1518] Unable to register cuBLAS factory: Attempting to register factory for plugin cuBLAS when one has already been registered\n",
      "2023-10-05 17:36:46.527519: I tensorflow/tsl/cuda/cudart_stub.cc:28] Could not find cuda drivers on your machine, GPU will not be used.\n",
      "2023-10-05 17:36:46.530857: I tensorflow/core/platform/cpu_feature_guard.cc:182] This TensorFlow binary is optimized to use available CPU instructions in performance-critical operations.\n",
      "To enable the following instructions: AVX2 AVX_VNNI FMA, in other operations, rebuild TensorFlow with the appropriate compiler flags.\n",
      "2023-10-05 17:36:47.810950: W tensorflow/compiler/tf2tensorrt/utils/py_utils.cc:38] TF-TRT Warning: Could not find TensorRT\n"
     ]
    }
   ],
   "source": [
    "# %%\n",
    "from keras.datasets import mnist\n",
    "\n",
    "# %%\n",
    "import numpy as np\n",
    "import matplotlib.pyplot as plt"
   ]
  },
  {
   "cell_type": "code",
   "execution_count": 2,
   "id": "512d9ebc-b44c-49d9-a4a2-dea66de52588",
   "metadata": {},
   "outputs": [
    {
     "data": {
      "text/plain": [
       "Text(0.5, 1.0, '6')"
      ]
     },
     "execution_count": 2,
     "metadata": {},
     "output_type": "execute_result"
    },
    {
     "data": {
      "image/png": "[encoded data removed]",
      "text/plain": [
       "<Figure size 640x480 with 1 Axes>"
      ]
     },
     "metadata": {},
     "output_type": "display_data"
    }
   ],
   "source": [
    "(X_train,y_train),(X_test,y_test)=mnist.load_data()\n",
    "\n",
    "# %%\n",
    "plt.imshow(X_train[39])\n",
    "plt.title(y_train[39])"
   ]
  },
  {
   "cell_type": "code",
   "execution_count": 3,
   "id": "aaf859ca-0b7c-441a-89d4-339ef27667b9",
   "metadata": {},
   "outputs": [
    {
     "data": {
      "text/plain": [
       "(28, 28)"
      ]
     },
     "execution_count": 3,
     "metadata": {},
     "output_type": "execute_result"
    }
   ],
   "source": [
    "X_train[0].shape"
   ]
  },
  {
   "cell_type": "code",
   "execution_count": 4,
   "id": "beda409a-308d-4ca1-8f6a-6a329da2d1fe",
   "metadata": {},
   "outputs": [
    {
     "data": {
      "text/plain": [
       "()"
      ]
     },
     "execution_count": 4,
     "metadata": {},
     "output_type": "execute_result"
    }
   ],
   "source": [
    "y_train[0].shape"
   ]
  },
  {
   "cell_type": "code",
   "execution_count": 5,
   "id": "ba4c1a6c-3c25-4659-8de2-551313b2fb20",
   "metadata": {},
   "outputs": [],
   "source": [
    "X_train = X_train.reshape(60000,28,28,1)\n",
    "X_test = X_test.reshape(10000,28,28,1)"
   ]
  },
  {
   "cell_type": "code",
   "execution_count": 6,
   "id": "881b1969-7013-488e-b9a7-7941a7a50311",
   "metadata": {},
   "outputs": [
    {
     "data": {
      "text/plain": [
       "array([0., 0., 0., 0., 0., 1., 0., 0., 0., 0.], dtype=float32)"
      ]
     },
     "execution_count": 6,
     "metadata": {},
     "output_type": "execute_result"
    }
   ],
   "source": [
    "from keras.utils import to_categorical\n",
    "#one-hot encode target column\n",
    "y_train = to_categorical(y_train)\n",
    "y_test = to_categorical(y_test)\n",
    "y_train[0]\n"
   ]
  },
  {
   "cell_type": "code",
   "execution_count": 7,
   "id": "df8f6a26-6725-4180-9290-44645be3196a",
   "metadata": {},
   "outputs": [],
   "source": [
    "from keras.layers import Dense,Conv2D,AveragePooling2D,Flatten\n",
    "from keras.models import Sequential\n",
    "\n",
    "from keras.src.layers import GlobalAveragePooling2D\n"
   ]
  },
  {
   "cell_type": "code",
   "execution_count": 8,
   "id": "95f5e509-0aaa-4aa4-8629-c6d135a4912a",
   "metadata": {},
   "outputs": [],
   "source": [
    "model = Sequential()\n",
    "\n",
    "model.add(Conv2D(4, kernel_size=(3,3), activation='relu', input_shape=(28,28,1)))\n",
    "model.add(AveragePooling2D(2,2))\n",
    "\n",
    "model.add(Conv2D(4, kernel_size=(3,3), activation='relu'))\n",
    "model.add(AveragePooling2D(2,2))\n",
    "\n",
    "model.add(Flatten())\n",
    "model.add(Dense(10, activation='softmax'))"
   ]
  },
  {
   "cell_type": "code",
   "execution_count": 9,
   "id": "f2fb0182-6b76-476c-ba53-62e89cc99cbe",
   "metadata": {},
   "outputs": [],
   "source": [
    "model.compile(optimizer='adam', loss='categorical_crossentropy', metrics=['accuracy'])"
   ]
  },
  {
   "cell_type": "code",
   "execution_count": 10,
   "id": "d156da8f-31e0-4130-bf31-aa8f53b242b6",
   "metadata": {},
   "outputs": [
    {
     "name": "stdout",
     "output_type": "stream",
     "text": [
      "Epoch 1/3\n",
      "60000/60000 [==============================] - 512s 9ms/step - loss: 0.2794 - accuracy: 0.9272 - val_loss: 0.1158 - val_accuracy: 0.9640\n",
      "Epoch 2/3\n",
      "60000/60000 [==============================] - 511s 9ms/step - loss: 0.1246 - accuracy: 0.9630 - val_loss: 0.1117 - val_accuracy: 0.9643\n",
      "Epoch 3/3\n",
      "60000/60000 [==============================] - 535s 9ms/step - loss: 0.1196 - accuracy: 0.9646 - val_loss: 0.1303 - val_accuracy: 0.9626\n"
     ]
    },
    {
     "data": {
      "text/plain": [
       "<keras.src.callbacks.History at 0x7f52a4221b40>"
      ]
     },
     "execution_count": 10,
     "metadata": {},
     "output_type": "execute_result"
    }
   ],
   "source": [
    "model.fit(X_train, y_train, validation_data=(X_test, y_test), epochs=3,batch_size=1)"
   ]
  },
  {
   "cell_type": "code",
   "execution_count": 11,
   "id": "0098b69e-ca8f-40a2-85d8-e49bed513e6d",
   "metadata": {},
   "outputs": [
    {
     "data": {
      "text/plain": [
       "<matplotlib.image.AxesImage at 0x7f5280572c20>"
      ]
     },
     "execution_count": 11,
     "metadata": {},
     "output_type": "execute_result"
    },
    {
     "data": {
      "image/png": "[encoded data removed]",
      "text/plain": [
       "<Figure size 640x480 with 1 Axes>"
      ]
     },
     "metadata": {},
     "output_type": "display_data"
    }
   ],
   "source": [
    "plt.imshow(X_test[99])"
   ]
  },
  {
   "cell_type": "code",
   "execution_count": 12,
   "id": "e5aa8526-359a-47e7-b477-ba17533ea0e1",
   "metadata": {},
   "outputs": [
    {
     "name": "stdout",
     "output_type": "stream",
     "text": [
      "1/1 [==============================] - 0s 117ms/step\n"
     ]
    }
   ],
   "source": [
    "test=X_test[99].reshape(-1,28,28,1)\n",
    "\n",
    "\n",
    "predictions = np.argmax(model.predict(test), axis=-1)"
   ]
  },
  {
   "cell_type": "code",
   "execution_count": 13,
   "id": "2a85ef7b-4857-4542-983f-47007e82dbe5",
   "metadata": {},
   "outputs": [
    {
     "data": {
      "text/plain": [
       "array([9])"
      ]
     },
     "execution_count": 13,
     "metadata": {},
     "output_type": "execute_result"
    }
   ],
   "source": [
    "predictions"
   ]
  },
  {
   "cell_type": "code",
   "execution_count": 14,
   "id": "0d18914f-23f2-4c03-acc6-cb634bbaa00c",
   "metadata": {},
   "outputs": [
    {
     "name": "stderr",
     "output_type": "stream",
     "text": [
      "/home/brian/.local/lib/python3.10/site-packages/keras/src/engine/training.py:3079: UserWarning: You are saving your model as an HDF5 file via `model.save()`. This file format is considered legacy. We recommend using instead the native Keras format, e.g. `model.save('my_model.keras')`.\n",
      "  saving_api.save_model(\n"
     ]
    }
   ],
   "source": [
    "model.save(\"./model.h5\")"
   ]
  },
  {
   "cell_type": "code",
   "execution_count": 15,
   "id": "b3f27dc5-8bea-4200-8043-fddf28c82dcc",
   "metadata": {},
   "outputs": [
    {
     "name": "stdout",
     "output_type": "stream",
     "text": [
      "pygame 2.5.2 (SDL 2.28.2, Python 3.10.12)\n",
      "Hello from the pygame community. https://www.pygame.org/contribute.html\n"
     ]
    }
   ],
   "source": [
    "import numpy as np\n",
    "import cv2 as cv\n",
    "import pygame.font\n",
    "import pygame.freetype\n",
    "import pygame,sys\n",
    "from pygame.locals import *\n",
    "from tensorflow.keras.models import load_model"
   ]
  },
  {
   "cell_type": "code",
   "execution_count": 30,
   "id": "5099aa7c-de25-4a7c-80c8-2d06ab452364",
   "metadata": {},
   "outputs": [
    {
     "name": "stderr",
     "output_type": "stream",
     "text": [
      "ALSA lib confmisc.c:855:(parse_card) cannot find card '0'\n",
      "ALSA lib conf.c:5178:(_snd_config_evaluate) function snd_func_card_inum returned error: No such file or directory\n",
      "ALSA lib confmisc.c:422:(snd_func_concat) error evaluating strings\n",
      "ALSA lib conf.c:5178:(_snd_config_evaluate) function snd_func_concat returned error: No such file or directory\n",
      "ALSA lib confmisc.c:1334:(snd_func_refer) error evaluating name\n",
      "ALSA lib conf.c:5178:(_snd_config_evaluate) function snd_func_refer returned error: No such file or directory\n",
      "ALSA lib conf.c:5701:(snd_config_expand) Evaluate error: No such file or directory\n",
      "ALSA lib pcm.c:2664:(snd_pcm_open_noupdate) Unknown PCM default\n"
     ]
    },
    {
     "name": "stdout",
     "output_type": "stream",
     "text": [
      "1/1 [==============================] - 0s 19ms/step\n",
      "1/1 [==============================] - 0s 19ms/step\n",
      "1/1 [==============================] - 0s 25ms/step\n",
      "1/1 [==============================] - 0s 26ms/step\n",
      "1/1 [==============================] - 0s 28ms/step\n",
      "1/1 [==============================] - 0s 18ms/step\n",
      "1/1 [==============================] - 0s 32ms/step\n",
      "1/1 [==============================] - 0s 19ms/step\n",
      "1/1 [==============================] - 0s 26ms/step\n",
      "1/1 [==============================] - 0s 27ms/step\n",
      "1/1 [==============================] - 0s 27ms/step\n",
      "1/1 [==============================] - 0s 24ms/step\n",
      "1/1 [==============================] - 0s 17ms/step\n",
      "1/1 [==============================] - 0s 27ms/step\n",
      "1/1 [==============================] - 0s 19ms/step\n",
      "1/1 [==============================] - 0s 19ms/step\n",
      "1/1 [==============================] - 0s 24ms/step\n",
      "1/1 [==============================] - 0s 20ms/step\n",
      "1/1 [==============================] - 0s 28ms/step\n",
      "1/1 [==============================] - 0s 22ms/step\n",
      "1/1 [==============================] - 0s 30ms/step\n",
      "1/1 [==============================] - 0s 26ms/step\n",
      "1/1 [==============================] - 0s 18ms/step\n",
      "1/1 [==============================] - 0s 26ms/step\n",
      "1/1 [==============================] - 0s 25ms/step\n",
      "1/1 [==============================] - 0s 18ms/step\n",
      "1/1 [==============================] - 0s 18ms/step\n",
      "1/1 [==============================] - 0s 26ms/step\n"
     ]
    },
    {
     "ename": "SystemExit",
     "evalue": "",
     "output_type": "error",
     "traceback": [
      "An exception has occurred, use %tb to see the full traceback.\n",
      "\u001b[0;31mSystemExit\u001b[0m\n"
     ]
    }
   ],
   "source": [
    "pygame.freetype.init()\n",
    "font = pygame.freetype.SysFont('Times New Roman', 30)\n",
    "\n",
    "\n",
    "WHITE=(255,255,255)\n",
    "BLACK=(0,0,0)\n",
    "pygame.init()\n",
    "\n",
    "DISPLAYSURFACE=pygame.display.set_mode((300,300))\n",
    "BOUNDARYINC=5\n",
    "WINDOWSIZEX=640\n",
    "WINDOWSIZEY=480\n",
    "IMAGESAVE=False\n",
    "PREDICT=True\n",
    "WHITE_INT=DISPLAYSURFACE.map_rgb(WHITE)\n",
    "pygame.display.set_caption(\"Test\")\n",
    "\n",
    "iswriting=False\n",
    "\n",
    "number_xcord=[]\n",
    "number_ycord=[]\n",
    "inmg_cnt=1\n",
    "\n",
    "while True:\n",
    "  for event in pygame.event.get():\n",
    "    if event.type==pygame.QUIT:\n",
    "      pygame.quit()\n",
    "      sys.exit()\n",
    "\n",
    "    if event.type==pygame.MOUSEMOTION and iswriting:\n",
    "      xcord,ycord=event.pos\n",
    "      pygame.draw.circle(DISPLAYSURFACE,WHITE,(xcord,ycord),5,5)\n",
    "      number_xcord.append(xcord)\n",
    "      number_ycord.append(ycord)\n",
    "\n",
    "    if event.type==pygame.MOUSEBUTTONDOWN:\n",
    "      iswriting=True\n",
    "      DISPLAYSURFACE.fill(BLACK)\n",
    "\n",
    "    if event.type==pygame.MOUSEBUTTONUP:\n",
    "      iswriting=False\n",
    "      number_xcord=sorted(number_xcord)\n",
    "      number_ycord=sorted(number_ycord)\n",
    "\n",
    "      rect_min_x=max(number_xcord[0]-BOUNDARYINC,0)\n",
    "      rect_max_x= min(WINDOWSIZEX,number_xcord[-1]+BOUNDARYINC)\n",
    "      rect_min_y=max(number_ycord[0]-BOUNDARYINC,0)\n",
    "      rect_max_y=min(WINDOWSIZEY,number_ycord[-1]+BOUNDARYINC)\n",
    "\n",
    "      number_xcord = []\n",
    "      number_ycord = []\n",
    "\n",
    "      pygame.image.save(DISPLAYSURFACE, \"img.png\")\n",
    "      img_arr=cv.imread(\"img.png\",cv.IMREAD_GRAYSCALE)\n",
    "      img_arr=cv.GaussianBlur(img_arr,(5,5),0)  \n",
    "      img_arr = img_arr.astype(np.uint8)\n",
    "      if IMAGESAVE:\n",
    "        cv.imwrite(\"image.png\") \n",
    "        inmg_cnt += 1\n",
    "      if PREDICT:\n",
    "        image=cv.resize(img_arr, (28,28))\n",
    "        \n",
    "        \n",
    "        predictions = np.argmax(model.predict(image.reshape(-1,28,28,1)), axis=-1)\n",
    "        label = str( predictions[0])\n",
    "        pygame.draw.rect (DISPLAYSURFACE, (255,0,0), (rect_min_x, rect_min_y, rect_max_x-rect_min_y, rect_max_y-rect_min_y), 3) \n",
    "        font.render_to(DISPLAYSURFACE, (rect_min_x, rect_min_y), label, (255,0,0),30)\n",
    "\n",
    "      if event.type==pygame.KEYDOWN:\n",
    "        if event.unicode=='N':\n",
    "          DISPLAYSURFACE.fill(BLACK)\n",
    "    pygame.display.update()    \n"
   ]
  },
  {
   "cell_type": "code",
   "execution_count": 27,
   "id": "55258894-0f63-4230-9a08-3212f1e9cb13",
   "metadata": {},
   "outputs": [],
   "source": [
    "cv.imshow(\"omg\",image)\n",
    "cv.waitKey(1000)\n",
    "cv.destroyAllWindows()"
   ]
  },
  {
   "cell_type": "code",
   "execution_count": null,
   "id": "5a7c9152-6737-4740-a1a1-c1efca5e15c0",
   "metadata": {},
   "outputs": [],
   "source": []
  },
  {
   "cell_type": "code",
   "execution_count": null,
   "id": "97109e59-e221-4835-9a98-19dc9a715174",
   "metadata": {},
   "outputs": [],
   "source": []
  }
 ],
 "metadata": {
  "kernelspec": {
   "display_name": "Python 3 (ipykernel)",
   "language": "python",
   "name": "python3"
  },
  "language_info": {
   "codemirror_mode": {
    "name": "ipython",
    "version": 3
   },
   "file_extension": ".py",
   "mimetype": "text/x-python",
   "name": "python",
   "nbconvert_exporter": "python",
   "pygments_lexer": "ipython3",
   "version": "3.10.12"
  }
 },
 "nbformat": 4,
 "nbformat_minor": 5
}
